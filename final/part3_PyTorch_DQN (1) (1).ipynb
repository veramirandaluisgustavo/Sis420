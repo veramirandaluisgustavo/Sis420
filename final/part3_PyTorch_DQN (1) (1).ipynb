{
  "nbformat": 4,
  "nbformat_minor": 0,
  "metadata": {
    "colab": {
      "provenance": []
    },
    "kernelspec": {
      "name": "python3",
      "display_name": "Python 3"
    },
    "accelerator": "GPU"
  },
  "cells": [
    {
      "cell_type": "markdown",
      "metadata": {
        "id": "rMG8qMK9OY6r"
      },
      "source": [
        "# Install Dependecies to Render OpenAI Gym Environment"
      ]
    },
    {
      "cell_type": "code",
      "source": [
        "# Run this asap since it takes 30 seconds.\n",
        "\n",
        "!apt-get update\n",
        "!apt-get install -y xvfb python-opengl ffmpeg\n",
        "!pip install pyglet==1.3.2\n",
        "!pip install gym==0.10.8 pyvirtualdisplay\n",
        "!apt-get install -y libglu1-mesa"
      ],
      "metadata": {
        "id": "EmWtSQ80KGsi",
        "outputId": "cd0b7f60-7799-4c05-eee7-f43b620dc0e0",
        "colab": {
          "base_uri": "https://localhost:8080/"
        }
      },
      "execution_count": 1,
      "outputs": [
        {
          "output_type": "stream",
          "name": "stdout",
          "text": [
            "^C\n"
          ]
        }
      ]
    },
    {
      "cell_type": "code",
      "source": [
        "!pip install pyvirtualdisplay\n",
        "!apt-get install -y xvfb x11-utils"
      ],
      "metadata": {
        "id": "ynB3FgSNKeAk"
      },
      "execution_count": null,
      "outputs": []
    },
    {
      "cell_type": "code",
      "metadata": {
        "id": "OvvBAoQVJsuU",
        "colab": {
          "base_uri": "https://localhost:8080/"
        },
        "outputId": "fa968bbe-ecb5-4d4a-b097-ab656c979bd3"
      },
      "source": [
        "\n",
        "import gym\n",
        "from gym.wrappers import Monitor\n",
        "#from gym.wrappers.record_video import RecordVideo\n",
        "from collections import deque\n",
        "import torch\n",
        "import torch.nn as nn\n",
        "import torch.nn.functional as F\n",
        "import numpy as np\n",
        "import random\n",
        "import math\n",
        "import time\n",
        "import glob\n",
        "import io\n",
        "import base64\n",
        "from IPython.display import HTML\n",
        "from IPython import display as ipythondisplay\n",
        "from pyvirtualdisplay import Display\n",
        "display = Display(visible=0, size=(1400, 900))\n",
        "display.start()"
      ],
      "execution_count": 1,
      "outputs": [
        {
          "output_type": "execute_result",
          "data": {
            "text/plain": [
              "<pyvirtualdisplay.display.Display at 0x7e4ca62ec760>"
            ]
          },
          "metadata": {},
          "execution_count": 1
        }
      ]
    },
    {
      "cell_type": "markdown",
      "metadata": {
        "id": "Ob-AUEpDO8MR"
      },
      "source": [
        "# Build DQN Agent and Helper Functions"
      ]
    },
    {
      "cell_type": "code",
      "metadata": {
        "id": "rxOHU5VsU7JB",
        "outputId": "c98058ed-e15e-4200-e233-674069bdbe37",
        "colab": {
          "base_uri": "https://localhost:8080/"
        }
      },
      "source": [
        "# Load gym environment and get action and state spaces.\n",
        "env = gym.make('CartPole-v0')\n",
        "num_features = env.observation_space.shape[0]\n",
        "num_actions = env.action_space.n\n",
        "print('Number of state features: {}'.format(num_features))\n",
        "print('Number of possible actions: {}'.format(num_actions))"
      ],
      "execution_count": 2,
      "outputs": [
        {
          "output_type": "stream",
          "name": "stdout",
          "text": [
            "Number of state features: 4\n",
            "Number of possible actions: 2\n"
          ]
        },
        {
          "output_type": "stream",
          "name": "stderr",
          "text": [
            "/usr/local/lib/python3.10/dist-packages/gym/envs/registration.py:14: PkgResourcesDeprecationWarning: Parameters to load are deprecated.  Call .resolve and .require separately.\n",
            "  result = entry_point.load(False)\n"
          ]
        }
      ]
    },
    {
      "cell_type": "code",
      "metadata": {
        "id": "q142f20ClXcy"
      },
      "source": [
        "device = torch.device(\"cuda\" if torch.cuda.is_available() else \"cpu\")"
      ],
      "execution_count": 3,
      "outputs": []
    },
    {
      "cell_type": "code",
      "metadata": {
        "id": "yBjdd9KfFLml"
      },
      "source": [
        "class DQN(nn.Module):\n",
        "    \"\"\"Dense neural network class.\"\"\"\n",
        "    def __init__(self, num_inputs, num_actions):\n",
        "        super(DQN, self).__init__()\n",
        "        self.fc1 = nn.Linear(num_inputs, 32)\n",
        "        self.fc2 = nn.Linear(32, 32)\n",
        "        self.out = nn.Linear(32, num_actions)\n",
        "\n",
        "    def forward(self, states):\n",
        "        \"\"\"Forward pass.\"\"\"\n",
        "        x = F.relu(self.fc1(states))\n",
        "        x = F.relu(self.fc2(x))\n",
        "        return self.out(x)\n",
        "\n",
        "main_nn = DQN(num_features, num_actions).to(device)\n",
        "target_nn = DQN(num_features, num_actions).to(device)\n",
        "\n",
        "optimizer = torch.optim.Adam(main_nn.parameters(), lr=1e-4)\n",
        "loss_fn = nn.MSELoss()"
      ],
      "execution_count": 4,
      "outputs": []
    },
    {
      "cell_type": "code",
      "metadata": {
        "id": "N7OT489fkEXO"
      },
      "source": [
        "class ReplayBuffer(object):\n",
        "  \"\"\"Experience replay buffer that samples uniformly.\"\"\"\n",
        "  def __init__(self, size, device=\"cpu\"):\n",
        "    \"\"\"Initializes the buffer.\"\"\"\n",
        "    self.buffer = deque(maxlen=size)\n",
        "    self.device = device\n",
        "\n",
        "  def add(self, state, action, reward, next_state, done):\n",
        "    self.buffer.append((state, action, reward, next_state, done))\n",
        "\n",
        "  def __len__(self):\n",
        "    return len(self.buffer)\n",
        "\n",
        "  def sample(self, num_samples):\n",
        "    states, actions, rewards, next_states, dones = [], [], [], [], []\n",
        "    idx = np.random.choice(len(self.buffer), num_samples)\n",
        "    for i in idx:\n",
        "      elem = self.buffer[i]\n",
        "      state, action, reward, next_state, done = elem\n",
        "      states.append(np.array(state, copy=False))\n",
        "      actions.append(np.array(action, copy=False))\n",
        "      rewards.append(reward)\n",
        "      next_states.append(np.array(next_state, copy=False))\n",
        "      dones.append(done)\n",
        "    states = torch.as_tensor(np.array(states), device=self.device)\n",
        "    actions = torch.as_tensor(np.array(actions), device=self.device)\n",
        "    rewards = torch.as_tensor(\n",
        "        np.array(rewards, dtype=np.float32), device=self.device\n",
        "    )\n",
        "    next_states = torch.as_tensor(np.array(next_states), device=self.device)\n",
        "    dones = torch.as_tensor(np.array(dones, dtype=np.float32), device=self.device)\n",
        "    return states, actions, rewards, next_states, dones"
      ],
      "execution_count": 5,
      "outputs": []
    },
    {
      "cell_type": "code",
      "metadata": {
        "id": "Q-jC9-cgWPyu"
      },
      "source": [
        "def select_epsilon_greedy_action(state, epsilon):\n",
        "  \"\"\"Take random action with probability epsilon, else take best action.\"\"\"\n",
        "  result = np.random.uniform()\n",
        "  if result < epsilon:\n",
        "    return env.action_space.sample() # Random action (left or right).\n",
        "  else:\n",
        "    qs = main_nn(state).cpu().data.numpy()\n",
        "    return np.argmax(qs) # Greedy action for state."
      ],
      "execution_count": 6,
      "outputs": []
    },
    {
      "cell_type": "code",
      "metadata": {
        "id": "mxjof_YfRFaN"
      },
      "source": [
        "def train_step(states, actions, rewards, next_states, dones):\n",
        "  \"\"\"Perform a training iteration on a batch of data sampled from the experience\n",
        "  replay buffer.\n",
        "  \"\"\"\n",
        "  # Calculate targets.\n",
        "  max_next_qs = target_nn(next_states).max(-1).values\n",
        "  target = rewards + (1.0 - dones) * discount * max_next_qs\n",
        "  qs = main_nn(states)\n",
        "  action_masks = F.one_hot(actions, num_actions)\n",
        "  masked_qs = (action_masks * qs).sum(dim=-1)\n",
        "  loss = loss_fn(masked_qs, target.detach())\n",
        "  #nn.utils.clip_grad_norm_(loss, max_norm=10)\n",
        "  optimizer.zero_grad()\n",
        "  loss.backward()\n",
        "  optimizer.step()\n",
        "  return loss"
      ],
      "execution_count": 7,
      "outputs": []
    },
    {
      "cell_type": "markdown",
      "metadata": {
        "id": "Dk4gbIkIAkq9"
      },
      "source": [
        "# Start running the DQN algorithm and see how the algorithm learns."
      ]
    },
    {
      "cell_type": "code",
      "metadata": {
        "id": "HdBCQEGNcVnV",
        "outputId": "4e67c21d-f8f4-463e-d86c-fcca37136724",
        "colab": {
          "base_uri": "https://localhost:8080/"
        }
      },
      "source": [
        "# Hyperparameters.\n",
        "num_episodes = 1000\n",
        "epsilon = 1.0\n",
        "batch_size = 32\n",
        "discount = 0.99\n",
        "buffer = ReplayBuffer(100000, device=device)\n",
        "cur_frame = 0\n",
        "\n",
        "# Start training. Play game once and then train with a batch.\n",
        "last_100_ep_rewards = []\n",
        "for episode in range(num_episodes+1):\n",
        "  state = env.reset().astype(np.float32)\n",
        "  ep_reward, done = 0, False\n",
        "  while not done:\n",
        "    state_in = torch.from_numpy(np.expand_dims(state, axis=0)).to(device)\n",
        "    action = select_epsilon_greedy_action(state_in, epsilon)\n",
        "    next_state, reward, done, info = env.step(action)\n",
        "    next_state = next_state.astype(np.float32)\n",
        "    ep_reward += reward\n",
        "    # Save to experience replay.\n",
        "    buffer.add(state, action, reward, next_state, done)\n",
        "    state = next_state\n",
        "    cur_frame += 1\n",
        "    # Copy main_nn weights to target_nn.\n",
        "    if cur_frame % 2000 == 0:\n",
        "      target_nn.load_state_dict(main_nn.state_dict())\n",
        "\n",
        "    # Train neural network.\n",
        "    if len(buffer) > batch_size:\n",
        "      states, actions, rewards, next_states, dones = buffer.sample(batch_size)\n",
        "      loss = train_step(states, actions, rewards, next_states, dones)\n",
        "\n",
        "  if episode < 950:\n",
        "    epsilon -= 0.001\n",
        "\n",
        "  if len(last_100_ep_rewards) == 100:\n",
        "    last_100_ep_rewards = last_100_ep_rewards[1:]\n",
        "  last_100_ep_rewards.append(ep_reward)\n",
        "\n",
        "  if episode % 50 == 0:\n",
        "    print(f'Episode {episode}/{num_episodes}. Epsilon: {epsilon:.3f}.'\n",
        "          f' Reward in last 100 episodes: {np.mean(last_100_ep_rewards):.2f}')\n",
        "\n",
        "env.close()"
      ],
      "execution_count": 9,
      "outputs": [
        {
          "output_type": "stream",
          "name": "stdout",
          "text": [
            "Episode 0/1000. Epsilon: 0.999. Reward in last 100 episodes: 19.00\n",
            "Episode 50/1000. Epsilon: 0.949. Reward in last 100 episodes: 20.33\n",
            "Episode 100/1000. Epsilon: 0.899. Reward in last 100 episodes: 20.45\n",
            "Episode 150/1000. Epsilon: 0.849. Reward in last 100 episodes: 20.60\n",
            "Episode 200/1000. Epsilon: 0.799. Reward in last 100 episodes: 19.85\n",
            "Episode 250/1000. Epsilon: 0.749. Reward in last 100 episodes: 20.65\n",
            "Episode 300/1000. Epsilon: 0.699. Reward in last 100 episodes: 22.01\n",
            "Episode 350/1000. Epsilon: 0.649. Reward in last 100 episodes: 26.30\n",
            "Episode 400/1000. Epsilon: 0.599. Reward in last 100 episodes: 34.59\n",
            "Episode 450/1000. Epsilon: 0.549. Reward in last 100 episodes: 49.32\n",
            "Episode 500/1000. Epsilon: 0.499. Reward in last 100 episodes: 82.47\n",
            "Episode 550/1000. Epsilon: 0.449. Reward in last 100 episodes: 113.50\n",
            "Episode 600/1000. Epsilon: 0.399. Reward in last 100 episodes: 135.77\n",
            "Episode 650/1000. Epsilon: 0.349. Reward in last 100 episodes: 154.83\n",
            "Episode 700/1000. Epsilon: 0.299. Reward in last 100 episodes: 174.78\n",
            "Episode 750/1000. Epsilon: 0.249. Reward in last 100 episodes: 189.64\n",
            "Episode 800/1000. Epsilon: 0.199. Reward in last 100 episodes: 195.05\n",
            "Episode 850/1000. Epsilon: 0.149. Reward in last 100 episodes: 198.14\n",
            "Episode 900/1000. Epsilon: 0.099. Reward in last 100 episodes: 197.35\n",
            "Episode 950/1000. Epsilon: 0.050. Reward in last 100 episodes: 198.55\n",
            "Episode 1000/1000. Epsilon: 0.050. Reward in last 100 episodes: 198.87\n"
          ]
        }
      ]
    },
    {
      "cell_type": "markdown",
      "metadata": {
        "id": "AxzxGYh_OmQg"
      },
      "source": [
        "# Display Result of Trained DQN Agent on Cartpole Environment"
      ]
    },
    {
      "cell_type": "code",
      "metadata": {
        "id": "Z8sEgVgvM2OQ"
      },
      "source": [
        "def show_video():\n",
        "  \"\"\"Enables video recording of gym environment and shows it.\"\"\"\n",
        "  mp4list = glob.glob('video/*.mp4')\n",
        "  if len(mp4list) > 0:\n",
        "    mp4 = mp4list[0]\n",
        "    video = io.open(mp4, 'r+b').read()\n",
        "    encoded = base64.b64encode(video)\n",
        "    ipythondisplay.display(HTML(data='''<video alt=\"test\" autoplay\n",
        "                loop controls style=\"height: 400px;\">\n",
        "                <source src=\"data:video/mp4;base64,{0}\" type=\"video/mp4\" />\n",
        "             </video>'''.format(encoded.decode('ascii'))))\n",
        "  else:\n",
        "    print(\"Video not found\")\n",
        "\n",
        "def wrap_env(env):\n",
        "  env = Monitor(env, './video', force=True)\n",
        "  return env"
      ],
      "execution_count": 10,
      "outputs": []
    },
    {
      "cell_type": "code",
      "metadata": {
        "id": "2XelFhSJGWGX",
        "outputId": "31af7506-5b2e-4540-d8cd-9c11588ebb78",
        "colab": {
          "base_uri": "https://localhost:8080/",
          "height": 476
        }
      },
      "source": [
        "env = wrap_env(gym.make('CartPole-v0'))\n",
        "state = env.reset()\n",
        "done = False\n",
        "ep_rew = 0\n",
        "while not done:\n",
        "  env.render()\n",
        "  state = state.astype(np.float32)\n",
        "  state = torch.from_numpy(np.expand_dims(state, axis=0)).to(device)\n",
        "  action = select_epsilon_greedy_action(state, epsilon=0.01)\n",
        "  state, reward, done, info = env.step(action)\n",
        "  ep_rew += reward\n",
        "print('Return on this episode: {}'.format(ep_rew))\n",
        "env.close()\n",
        "show_video()"
      ],
      "execution_count": 11,
      "outputs": [
        {
          "output_type": "stream",
          "name": "stderr",
          "text": [
            "/usr/local/lib/python3.10/dist-packages/gym/envs/registration.py:14: PkgResourcesDeprecationWarning: Parameters to load are deprecated.  Call .resolve and .require separately.\n",
            "  result = entry_point.load(False)\n"
          ]
        },
        {
          "output_type": "stream",
          "name": "stdout",
          "text": [
            "Return on this episode: 200.0\n"
          ]
        },
        {
          "output_type": "display_data",
          "data": {
            "text/plain": [
              "<IPython.core.display.HTML object>"
            ],
            "text/html": [
              "<video alt=\"test\" autoplay \n",
              "                loop controls style=\"height: 400px;\">\n",
              "                <source src=\"data:video/mp4;base64,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\" type=\"video/mp4\" />\n",
              "             </video>"
            ]
          },
          "metadata": {}
        }
      ]
    },
    {
      "cell_type": "code",
      "source": [
        "\n"
      ],
      "metadata": {
        "id": "sHziAkvrSlAV"
      },
      "execution_count": null,
      "outputs": []
    }
  ]
}